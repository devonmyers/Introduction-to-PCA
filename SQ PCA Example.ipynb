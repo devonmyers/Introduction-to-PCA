{
 "cells": [
  {
   "cell_type": "code",
   "execution_count": 1,
   "id": "01c0e1b6",
   "metadata": {},
   "outputs": [],
   "source": [
    "# load necessary packages\n",
    "import pandas as pd\n",
    "import numpy as np\n",
    "import random as rd\n",
    "from sklearn.decomposition import PCA\n",
    "from sklearn import preprocessing\n",
    "import matplotlib.pyplot as plt"
   ]
  },
  {
   "cell_type": "code",
   "execution_count": 3,
   "id": "03f64f41",
   "metadata": {},
   "outputs": [],
   "source": [
    "# Create an example dataset consisting of 100 genes and 12 samples\n",
    "# Columns will be the 12 different samples\n",
    "# Rows will be values of each of the 100 genes for each sample\n",
    "genes = ['gene' + str(i) for i in range(1,101)]\n",
    "wt    = ['wt' + str(i) for i in range(1, 6)] # wild type samples\n",
    "ko    = ['ko' + str(i) for i in range(1, 6)] # knock out samples"
   ]
  },
  {
   "cell_type": "code",
   "execution_count": 4,
   "id": "979caee2",
   "metadata": {},
   "outputs": [],
   "source": [
    "# Build a pandas dataframe\n",
    "data = pd.DataFrame(columns=[*wt, *ko], index=genes)"
   ]
  },
  {
   "cell_type": "code",
   "execution_count": 7,
   "id": "d6a29b1d",
   "metadata": {},
   "outputs": [],
   "source": [
    "# Create random data for each of the 12 samples\n",
    "for gene in data.index:\n",
    "    data.loc[gene, 'wt1':'wt5'] = np.random.poisson(lam=rd.randrange(10,1000), size=5)\n",
    "    data.loc[gene, 'ko1':'ko5'] = np.random.poisson(lam=rd.randrange(10,1000), size=5)"
   ]
  },
  {
   "cell_type": "code",
   "execution_count": 8,
   "id": "eb548055",
   "metadata": {},
   "outputs": [
    {
     "data": {
      "text/html": [
       "<div>\n",
       "<style scoped>\n",
       "    .dataframe tbody tr th:only-of-type {\n",
       "        vertical-align: middle;\n",
       "    }\n",
       "\n",
       "    .dataframe tbody tr th {\n",
       "        vertical-align: top;\n",
       "    }\n",
       "\n",
       "    .dataframe thead th {\n",
       "        text-align: right;\n",
       "    }\n",
       "</style>\n",
       "<table border=\"1\" class=\"dataframe\">\n",
       "  <thead>\n",
       "    <tr style=\"text-align: right;\">\n",
       "      <th></th>\n",
       "      <th>wt1</th>\n",
       "      <th>wt2</th>\n",
       "      <th>wt3</th>\n",
       "      <th>wt4</th>\n",
       "      <th>wt5</th>\n",
       "      <th>ko1</th>\n",
       "      <th>ko2</th>\n",
       "      <th>ko3</th>\n",
       "      <th>ko4</th>\n",
       "      <th>ko5</th>\n",
       "    </tr>\n",
       "  </thead>\n",
       "  <tbody>\n",
       "    <tr>\n",
       "      <th>gene1</th>\n",
       "      <td>728</td>\n",
       "      <td>774</td>\n",
       "      <td>765</td>\n",
       "      <td>811</td>\n",
       "      <td>787</td>\n",
       "      <td>624</td>\n",
       "      <td>623</td>\n",
       "      <td>596</td>\n",
       "      <td>587</td>\n",
       "      <td>602</td>\n",
       "    </tr>\n",
       "    <tr>\n",
       "      <th>gene2</th>\n",
       "      <td>78</td>\n",
       "      <td>63</td>\n",
       "      <td>71</td>\n",
       "      <td>80</td>\n",
       "      <td>68</td>\n",
       "      <td>76</td>\n",
       "      <td>86</td>\n",
       "      <td>87</td>\n",
       "      <td>79</td>\n",
       "      <td>79</td>\n",
       "    </tr>\n",
       "    <tr>\n",
       "      <th>gene3</th>\n",
       "      <td>470</td>\n",
       "      <td>476</td>\n",
       "      <td>492</td>\n",
       "      <td>492</td>\n",
       "      <td>471</td>\n",
       "      <td>980</td>\n",
       "      <td>963</td>\n",
       "      <td>907</td>\n",
       "      <td>1008</td>\n",
       "      <td>974</td>\n",
       "    </tr>\n",
       "    <tr>\n",
       "      <th>gene4</th>\n",
       "      <td>221</td>\n",
       "      <td>193</td>\n",
       "      <td>223</td>\n",
       "      <td>217</td>\n",
       "      <td>210</td>\n",
       "      <td>673</td>\n",
       "      <td>651</td>\n",
       "      <td>698</td>\n",
       "      <td>674</td>\n",
       "      <td>643</td>\n",
       "    </tr>\n",
       "    <tr>\n",
       "      <th>gene5</th>\n",
       "      <td>586</td>\n",
       "      <td>553</td>\n",
       "      <td>557</td>\n",
       "      <td>574</td>\n",
       "      <td>555</td>\n",
       "      <td>586</td>\n",
       "      <td>609</td>\n",
       "      <td>595</td>\n",
       "      <td>609</td>\n",
       "      <td>584</td>\n",
       "    </tr>\n",
       "  </tbody>\n",
       "</table>\n",
       "</div>"
      ],
      "text/plain": [
       "       wt1  wt2  wt3  wt4  wt5  ko1  ko2  ko3   ko4  ko5\n",
       "gene1  728  774  765  811  787  624  623  596   587  602\n",
       "gene2   78   63   71   80   68   76   86   87    79   79\n",
       "gene3  470  476  492  492  471  980  963  907  1008  974\n",
       "gene4  221  193  223  217  210  673  651  698   674  643\n",
       "gene5  586  553  557  574  555  586  609  595   609  584"
      ]
     },
     "execution_count": 8,
     "metadata": {},
     "output_type": "execute_result"
    }
   ],
   "source": [
    "data.head()"
   ]
  },
  {
   "cell_type": "code",
   "execution_count": 9,
   "id": "5f01a2d8",
   "metadata": {},
   "outputs": [
    {
     "data": {
      "text/plain": [
       "(100, 10)"
      ]
     },
     "execution_count": 9,
     "metadata": {},
     "output_type": "execute_result"
    }
   ],
   "source": [
    "data.shape"
   ]
  },
  {
   "cell_type": "code",
   "execution_count": 10,
   "id": "1b015138",
   "metadata": {},
   "outputs": [
    {
     "data": {
      "text/html": [
       "<div>\n",
       "<style scoped>\n",
       "    .dataframe tbody tr th:only-of-type {\n",
       "        vertical-align: middle;\n",
       "    }\n",
       "\n",
       "    .dataframe tbody tr th {\n",
       "        vertical-align: top;\n",
       "    }\n",
       "\n",
       "    .dataframe thead th {\n",
       "        text-align: right;\n",
       "    }\n",
       "</style>\n",
       "<table border=\"1\" class=\"dataframe\">\n",
       "  <thead>\n",
       "    <tr style=\"text-align: right;\">\n",
       "      <th></th>\n",
       "      <th>wt1</th>\n",
       "      <th>wt2</th>\n",
       "      <th>wt3</th>\n",
       "      <th>wt4</th>\n",
       "      <th>wt5</th>\n",
       "      <th>ko1</th>\n",
       "      <th>ko2</th>\n",
       "      <th>ko3</th>\n",
       "      <th>ko4</th>\n",
       "      <th>ko5</th>\n",
       "    </tr>\n",
       "  </thead>\n",
       "  <tbody>\n",
       "    <tr>\n",
       "      <th>count</th>\n",
       "      <td>100</td>\n",
       "      <td>100</td>\n",
       "      <td>100</td>\n",
       "      <td>100</td>\n",
       "      <td>100</td>\n",
       "      <td>100</td>\n",
       "      <td>100</td>\n",
       "      <td>100</td>\n",
       "      <td>100</td>\n",
       "      <td>100</td>\n",
       "    </tr>\n",
       "    <tr>\n",
       "      <th>unique</th>\n",
       "      <td>95</td>\n",
       "      <td>97</td>\n",
       "      <td>99</td>\n",
       "      <td>96</td>\n",
       "      <td>95</td>\n",
       "      <td>94</td>\n",
       "      <td>94</td>\n",
       "      <td>95</td>\n",
       "      <td>88</td>\n",
       "      <td>95</td>\n",
       "    </tr>\n",
       "    <tr>\n",
       "      <th>top</th>\n",
       "      <td>85</td>\n",
       "      <td>66</td>\n",
       "      <td>114</td>\n",
       "      <td>164</td>\n",
       "      <td>417</td>\n",
       "      <td>317</td>\n",
       "      <td>835</td>\n",
       "      <td>381</td>\n",
       "      <td>172</td>\n",
       "      <td>921</td>\n",
       "    </tr>\n",
       "    <tr>\n",
       "      <th>freq</th>\n",
       "      <td>2</td>\n",
       "      <td>2</td>\n",
       "      <td>2</td>\n",
       "      <td>2</td>\n",
       "      <td>2</td>\n",
       "      <td>2</td>\n",
       "      <td>3</td>\n",
       "      <td>2</td>\n",
       "      <td>3</td>\n",
       "      <td>2</td>\n",
       "    </tr>\n",
       "  </tbody>\n",
       "</table>\n",
       "</div>"
      ],
      "text/plain": [
       "        wt1  wt2  wt3  wt4  wt5  ko1  ko2  ko3  ko4  ko5\n",
       "count   100  100  100  100  100  100  100  100  100  100\n",
       "unique   95   97   99   96   95   94   94   95   88   95\n",
       "top      85   66  114  164  417  317  835  381  172  921\n",
       "freq      2    2    2    2    2    2    3    2    3    2"
      ]
     },
     "execution_count": 10,
     "metadata": {},
     "output_type": "execute_result"
    }
   ],
   "source": [
    "data.describe()"
   ]
  },
  {
   "cell_type": "code",
   "execution_count": 12,
   "id": "6d6c257e",
   "metadata": {},
   "outputs": [
    {
     "data": {
      "text/plain": [
       "wt1    452.92\n",
       "wt2    448.45\n",
       "wt3    452.70\n",
       "wt4    454.47\n",
       "wt5    450.24\n",
       "ko1    517.46\n",
       "ko2    518.27\n",
       "ko3    522.21\n",
       "ko4    518.48\n",
       "ko5    519.29\n",
       "dtype: float64"
      ]
     },
     "execution_count": 12,
     "metadata": {},
     "output_type": "execute_result"
    }
   ],
   "source": [
    "data.mean()"
   ]
  },
  {
   "cell_type": "code",
   "execution_count": 13,
   "id": "7f97b9fb",
   "metadata": {},
   "outputs": [
    {
     "data": {
      "text/plain": [
       "wt1    301.556356\n",
       "wt2    298.996212\n",
       "wt3    300.016784\n",
       "wt4    301.733525\n",
       "wt5    299.376528\n",
       "ko1    285.276524\n",
       "ko2    285.278806\n",
       "ko3    288.580374\n",
       "ko4    285.203400\n",
       "ko5    286.204924\n",
       "dtype: float64"
      ]
     },
     "execution_count": 13,
     "metadata": {},
     "output_type": "execute_result"
    }
   ],
   "source": [
    "data.std()"
   ]
  },
  {
   "cell_type": "code",
   "execution_count": 14,
   "id": "8e9ada32",
   "metadata": {},
   "outputs": [],
   "source": [
    "#center the data by scaling\n",
    "scaled_data = preprocessing.scale(data.T)"
   ]
  },
  {
   "cell_type": "code",
   "execution_count": 18,
   "id": "428da4dd",
   "metadata": {},
   "outputs": [],
   "source": [
    "pca = PCA()"
   ]
  },
  {
   "cell_type": "code",
   "execution_count": 19,
   "id": "6123d0f1",
   "metadata": {},
   "outputs": [
    {
     "data": {
      "text/plain": [
       "PCA()"
      ]
     },
     "execution_count": 19,
     "metadata": {},
     "output_type": "execute_result"
    }
   ],
   "source": [
    "# compute loading score and PC variation \n",
    "pca.fit(scaled_data)"
   ]
  },
  {
   "cell_type": "code",
   "execution_count": 20,
   "id": "4d8ff466",
   "metadata": {},
   "outputs": [],
   "source": [
    "# Generate coordinates for PCA graph\n",
    "pca_data = pca.transform(scaled_data)"
   ]
  },
  {
   "cell_type": "code",
   "execution_count": 22,
   "id": "52dfefc6",
   "metadata": {},
   "outputs": [],
   "source": [
    "# Compute percentage of variation for each principal component\n",
    "per_var = np.round(pca.explained_variance_ratio_*100, decimals=1)"
   ]
  },
  {
   "cell_type": "code",
   "execution_count": 23,
   "id": "5316e6f6",
   "metadata": {},
   "outputs": [
    {
     "data": {
      "text/plain": [
       "array([91.5,  2.5,  1.9,  1.3,  1. ,  0.8,  0.6,  0.3,  0.2,  0. ])"
      ]
     },
     "execution_count": 23,
     "metadata": {},
     "output_type": "execute_result"
    }
   ],
   "source": [
    "per_var"
   ]
  },
  {
   "cell_type": "code",
   "execution_count": 24,
   "id": "16e0429a",
   "metadata": {},
   "outputs": [],
   "source": [
    "labels = ['PC' + str(x) for x in range(1, len(per_var)+1)]"
   ]
  },
  {
   "cell_type": "code",
   "execution_count": 25,
   "id": "8a955b94",
   "metadata": {},
   "outputs": [
    {
     "data": {
      "image/png": "[encoded data removed]",
      "text/plain": [
       "<Figure size 432x288 with 1 Axes>"
      ]
     },
     "metadata": {
      "needs_background": "light"
     },
     "output_type": "display_data"
    }
   ],
   "source": [
    "# Use matplotlib to create a scree plot\n",
    "plt.bar(x=range(1, len(per_var)+1), height=per_var, tick_label=labels)\n",
    "plt.ylabel('Percentage of Explained Variance')\n",
    "plt.xlabel('Principal Component')\n",
    "plt.title('Scree Plot')\n",
    "plt.show()"
   ]
  },
  {
   "cell_type": "code",
   "execution_count": null,
   "id": "acc96f4c",
   "metadata": {},
   "outputs": [],
   "source": [
    "# Next, draw a PCA plot using PC1 and PC2"
   ]
  },
  {
   "cell_type": "code",
   "execution_count": 28,
   "id": "68851f0c",
   "metadata": {},
   "outputs": [],
   "source": [
    "# Create a matrix where rows have sample labels and columns have PC labels\n",
    "# Data will PC coordinates for each sample-row pair\n",
    "pca_df = pd.DataFrame(pca_data, index=[*wt, *ko], columns=labels)"
   ]
  },
  {
   "cell_type": "code",
   "execution_count": 29,
   "id": "1aa39acd",
   "metadata": {},
   "outputs": [
    {
     "data": {
      "image/png": "[encoded data removed]",
      "text/plain": [
       "<Figure size 432x288 with 1 Axes>"
      ]
     },
     "metadata": {
      "needs_background": "light"
     },
     "output_type": "display_data"
    }
   ],
   "source": [
    "# Draw a nice scatter plot with PC coordinates\n",
    "plt.scatter(pca_df.PC1, pca_df.PC2)\n",
    "plt.title('PCA Graph')\n",
    "plt.xlabel(f'PC1 - {per_var[0]}')\n",
    "plt.ylabel(f'PC2 - {per_var[1]}')\n",
    "\n",
    "for sample in pca_df.index:\n",
    "    plt.annotate(sample, (pca_df.PC1.loc[sample], pca_df.PC2.loc[sample]))\n",
    "\n",
    "plt.show()    "
   ]
  },
  {
   "cell_type": "code",
   "execution_count": 30,
   "id": "3bf17155",
   "metadata": {},
   "outputs": [],
   "source": [
    "# ko samples are clustered on one side, suggesting they are correlated\n",
    "# wt samples cluster on the other side, suggesting they are correlated\n",
    "# The separation of the two clusters along the x-axis suggests that \n",
    "# wt samples are different from ko samples"
   ]
  },
  {
   "cell_type": "code",
   "execution_count": 31,
   "id": "c27714e2",
   "metadata": {},
   "outputs": [],
   "source": [
    "# Look at loading scores for PC1 to determine which genes had the largest\n",
    "# influence on separting the two clusters along the x-axis\n",
    "loading_scores = pd.Series(pca.components_[0], index=genes) #PC1 is index 0"
   ]
  },
  {
   "cell_type": "code",
   "execution_count": 33,
   "id": "d7311eab",
   "metadata": {},
   "outputs": [],
   "source": [
    "# sort loading scores based on their magnitude\n",
    "sorted_loading_scores = loading_scores.abs().sort_values(ascending=False)"
   ]
  },
  {
   "cell_type": "code",
   "execution_count": 35,
   "id": "0717c0e6",
   "metadata": {},
   "outputs": [],
   "source": [
    "# Get the names of the top 10 genes\n",
    "top_10_genes = sorted_loading_scores[0:10].index.values"
   ]
  },
  {
   "cell_type": "code",
   "execution_count": 37,
   "id": "743932c8",
   "metadata": {},
   "outputs": [
    {
     "data": {
      "text/plain": [
       "gene37   -0.104531\n",
       "gene62   -0.104528\n",
       "gene21    0.104521\n",
       "gene52    0.104511\n",
       "gene39   -0.104501\n",
       "gene8    -0.104499\n",
       "gene99   -0.104484\n",
       "gene13    0.104482\n",
       "gene83    0.104480\n",
       "gene78   -0.104478\n",
       "dtype: float64"
      ]
     },
     "execution_count": 37,
     "metadata": {},
     "output_type": "execute_result"
    }
   ],
   "source": [
    "loading_scores[top_10_genes]\n",
    "# Values should all be pretty similar, indicating many genes play a role in separing samples"
   ]
  },
  {
   "cell_type": "code",
   "execution_count": null,
   "id": "b0def0a9",
   "metadata": {},
   "outputs": [],
   "source": []
  }
 ],
 "metadata": {
  "kernelspec": {
   "display_name": "Python 3",
   "language": "python",
   "name": "python3"
  },
  "language_info": {
   "codemirror_mode": {
    "name": "ipython",
    "version": 3
   },
   "file_extension": ".py",
   "mimetype": "text/x-python",
   "name": "python",
   "nbconvert_exporter": "python",
   "pygments_lexer": "ipython3",
   "version": "3.8.8"
  }
 },
 "nbformat": 4,
 "nbformat_minor": 5
}
